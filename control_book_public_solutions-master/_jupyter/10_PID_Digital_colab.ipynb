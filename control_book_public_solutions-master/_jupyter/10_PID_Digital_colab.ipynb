{
 "cells": [
  {
   "cell_type": "markdown",
   "metadata": {
    "colab_type": "text",
    "id": "XPtQeEXs4cVZ"
   },
   "source": [
    "# Prepare the Notebook"
   ]
  },
  {
   "cell_type": "code",
   "execution_count": 1,
   "metadata": {
    "colab": {
     "base_uri": "https://localhost:8080/",
     "height": 191
    },
    "colab_type": "code",
    "executionInfo": {
     "elapsed": 4080,
     "status": "ok",
     "timestamp": 1572644868105,
     "user": {
      "displayName": "Robert Leishman",
      "photoUrl": "https://lh3.googleusercontent.com/a-/AAuE7mA03hlSGOOO_5kcSOXnN79THd4H3h3saBfSkFZN0A=s64",
      "userId": "10475069795078818642"
     },
     "user_tz": 240
    },
    "id": "ha1QMxEW4cVc",
    "outputId": "15d2a355-50c4-4347-f0d1-df4077f40101"
   },
   "outputs": [
    {
     "name": "stdout",
     "output_type": "stream",
     "text": [
      "Requirement already satisfied: control in /usr/local/lib/python3.6/dist-packages (0.8.2)\n",
      "Requirement already satisfied: matplotlib in /usr/local/lib/python3.6/dist-packages (from control) (3.1.1)\n",
      "Requirement already satisfied: scipy in /usr/local/lib/python3.6/dist-packages (from control) (1.3.1)\n",
      "Requirement already satisfied: numpy in /usr/local/lib/python3.6/dist-packages (from control) (1.17.3)\n",
      "Requirement already satisfied: pyparsing!=2.0.4,!=2.1.2,!=2.1.6,>=2.0.1 in /usr/local/lib/python3.6/dist-packages (from matplotlib->control) (2.4.2)\n",
      "Requirement already satisfied: kiwisolver>=1.0.1 in /usr/local/lib/python3.6/dist-packages (from matplotlib->control) (1.1.0)\n",
      "Requirement already satisfied: cycler>=0.10 in /usr/local/lib/python3.6/dist-packages (from matplotlib->control) (0.10.0)\n",
      "Requirement already satisfied: python-dateutil>=2.1 in /usr/local/lib/python3.6/dist-packages (from matplotlib->control) (2.6.1)\n",
      "Requirement already satisfied: setuptools in /usr/local/lib/python3.6/dist-packages (from kiwisolver>=1.0.1->matplotlib->control) (41.4.0)\n",
      "Requirement already satisfied: six in /usr/local/lib/python3.6/dist-packages (from cycler>=0.10->matplotlib->control) (1.12.0)\n"
     ]
    }
   ],
   "source": [
    "!pip install control\n",
    "!git clone https://magiccvs.byu.edu/gitlab/whirlybird/control_book_public_solutions.git\n",
    "    !cd control_book_public_solutions/;  git checkout Fall19_edits"
   ]
  },
  {
   "cell_type": "markdown",
   "metadata": {
    "colab_type": "text",
    "id": "eXFd0x7x4cVq"
   },
   "source": [
    "I want the Fall19_edits branch. If you want a different branch, put that branch name in place of 'Fall19_edits' and re-run the cell. If you want the Master branch, just comment out that line."
   ]
  },
  {
   "cell_type": "code",
   "execution_count": 4,
   "metadata": {
    "colab": {
     "base_uri": "https://localhost:8080/",
     "height": 34
    },
    "colab_type": "code",
    "executionInfo": {
     "elapsed": 4034,
     "status": "ok",
     "timestamp": 1572644910143,
     "user": {
      "displayName": "Robert Leishman",
      "photoUrl": "https://lh3.googleusercontent.com/a-/AAuE7mA03hlSGOOO_5kcSOXnN79THd4H3h3saBfSkFZN0A=s64",
      "userId": "10475069795078818642"
     },
     "user_tz": 240
    },
    "id": "nKNl2SRs8Nbi",
    "outputId": "49714d94-c87a-417b-cf7a-5a8bfb37a1f9"
   },
   "outputs": [
    {
     "name": "stdout",
     "output_type": "stream",
     "text": [
      "Already up to date.\n"
     ]
    }
   ],
   "source": [
    "!cd control_book_public_solutions/;  git pull"
   ]
  },
  {
   "cell_type": "code",
   "execution_count": 0,
   "metadata": {
    "colab": {},
    "colab_type": "code",
    "id": "JRoB52gi4cVw"
   },
   "outputs": [],
   "source": [
    "import sys\n",
    "import numpy as np\n",
    "import control as c\n",
    "from control.matlab import *\n",
    "import matplotlib.pyplot as plt\n",
    "from IPython.display import Latex\n",
    "from IPython.display import Image"
   ]
  },
  {
   "cell_type": "code",
   "execution_count": 0,
   "metadata": {
    "colab": {},
    "colab_type": "code",
    "id": "CkqNOI-34cV1"
   },
   "outputs": [],
   "source": [
    "# Insert figures:\n",
    "#basename = 'control_book_public_solutions/_images/'\n",
    "#basename = './'\n",
    "#img1 = Image(filename=basename+'figures_3/pid_complex_poles.png',width=1000)"
   ]
  },
  {
   "cell_type": "markdown",
   "metadata": {
    "colab_type": "text",
    "id": "lRM1HbQL4cV6"
   },
   "source": [
    "# Part 3: PID Control Design\n",
    "## Chapter 10: Digital Implmentation of PID  Controllers\n",
    "\n",
    "### Lecture Notes\n",
    "\n",
    "This notebook covers the material in Chapter 10 of the [text](http://controlbook.byu.edu/doku.php) in brief form, allowing you to make changes and manipulate the examples.  The goal is for this resource to help you bridge the gap between theory and the practical."
   ]
  },
  {
   "cell_type": "markdown",
   "metadata": {
    "colab_type": "text",
    "id": "lt7MUrSv4cV7"
   },
   "source": [
    "## Sample Time Summary\n",
    "The text covers the derivation for discrete time approximations to the continuous time PID terms derived in earlier chapters.  Here we will just summarize these and then implement them.\n",
    "\n",
    "### Proportional\n",
    "This one is easy: $u_P[n] = k_p e[n]$, for sample time $n$, where $e[n]$ is the error at sample time $n$. \n",
    "\n",
    "### Integral\n",
    "Using the inverse z-transform of the Tustin approximation of the simple $\\frac{1}{s}$ Laplace term, we have: \n",
    "$u_I[n] = u_I[n-1] + \\frac{T_s}{2}(e[n] + e[n-1])$, where $T_s$ is the sample time period (in seconds)\n",
    "\n",
    "### Derivative\n",
    "We utilize a dirty derivative term, that allows for a band-limited ($\\frac{1}{\\sigma}$ bandwidth) derivative of a signal\n",
    "$u_D[n] = \\frac{2 \\sigma - T_s}{2 \\sigma + T_s} u_D[n-1] + \\frac{2}{2 \\sigma + T_s} (e[n] - e[n-1])$\n",
    "\n",
    "OR\n",
    "\n",
    "$u_D[n] = \\frac{2 \\sigma - T_s}{2 \\sigma + T_s} u_D[n-1] + \\frac{2}{2 \\sigma + T_s} (y[n] - y[n-1])$\n",
    "\n",
    "## PID\n",
    "The combined PID control effort is then \n",
    "$u[n] = k_P u_p[n] + k_D u_D[n] + k_I u_I[n]$\n",
    " "
   ]
  },
  {
   "cell_type": "code",
   "execution_count": 0,
   "metadata": {
    "colab": {},
    "colab_type": "code",
    "id": "dnRH17S_4cV8"
   },
   "outputs": [],
   "source": [
    "#TODO: Turn the cell below into an interactive example, where students are given the shell and have to input the code \\\n",
    "# to make it work!  \n",
    "# Then, use this control class in the simulation below! Bring in code from Ch7 & 8 to define the gains right - making it a \n",
    "# fully interactive example of what to do.  "
   ]
  },
  {
   "cell_type": "markdown",
   "metadata": {
    "colab_type": "text",
    "id": "ZyCaTnwQ4cWA"
   },
   "source": [
    "Below is an example of a PID controller class in Python: \n",
    "\n",
    "```\n",
    "import numpy as np\n",
    "\n",
    "class PIDControl:\n",
    "    def __init__(self, kp, ki, kd, limit, sigma, intlimit, Ts):\n",
    "        self.kp = kp                 # Proportional control gain\n",
    "        self.ki = ki                 # Integral control gain\n",
    "        self.kd = kd                 # Derivative control gain\n",
    "        self.limit = limit           # The output will saturate at this limit\n",
    "        self.sigma = sigma           # gain for dirty derivative\n",
    "        self.intlimit = intlimit     # anti-integrator windup - derivative must be below to integrate\n",
    "        self.Ts = Ts                 # sample rate\n",
    "\n",
    "        self.y_dot = 0.0             # estimated derivative of y\n",
    "        self.y_d1 = 0.0              # Signal y delayed by one sample\n",
    "        self.error_dot = 0.0         # estimated derivative of error\n",
    "        self.error_d1 = 0.0          # Error delayed by one sample\n",
    "        self.integrator = 0.0        # integrator\n",
    "\n",
    "    def PID(self, y_r, y, flag=True):\n",
    "        '''\n",
    "            PID control,\n",
    "\n",
    "            if flag==True, then returns\n",
    "                u = kp*error + ki*integral(error) + kd*error_dot.\n",
    "            else returns \n",
    "                u = kp*error + ki*integral(error) - kd*y_dot.\n",
    "\n",
    "            error_dot and y_dot are computed numerically using a dirty derivative\n",
    "            integral(error) is computed numerically using trapezoidal approximation\n",
    "        '''\n",
    "\n",
    "        # Compute the current error\n",
    "        error = y_r - y\n",
    "        \n",
    "        # Differentiate error and y: \n",
    "        differentiate(error, y)\n",
    "        \n",
    "        # integrate error if derivative is small\n",
    "        if self.y_dot > self.intlimit:\n",
    "            self.integrator = self.integrator + (self.Ts/2)*(error+self.error_d1)\n",
    "\n",
    "        # PID Control\n",
    "        if flag is True:\n",
    "            # D control with error_dot\n",
    "            u_unsat = self.kp*error + self.ki*self.integrator + self.kd*self.error_dot\n",
    "        else:\n",
    "            # D control with y_dot\n",
    "            u_unsat = self.kp*error + self.ki*self.integrator - self.kd*self.y_dot\n",
    "            \n",
    "        # return saturated control signal\n",
    "        u_sat = self.saturate(u_unsat)\n",
    "        \n",
    "        # integrator anti - windup\n",
    "        if self.ki != 0.0:\n",
    "            self.integrator = self.integrator + self.Ts / self.ki * (u_sat - u_unsat)\n",
    "            \n",
    "        # update delayed variables\n",
    "        self.error_d1 = error\n",
    "        self.y_d1 = y\n",
    "        return u_sat\n",
    "\n",
    "    def PD(self, y_r, y, flag=True):\n",
    "        '''\n",
    "            PD control,\n",
    "            \n",
    "            if flag==True, then returns\n",
    "                u = kp*error + kd*error_dot.\n",
    "            else returns \n",
    "                u = kp*error - kd*y_dot.\n",
    "            \n",
    "            error_dot and y_dot are computed numerically using a dirty derivative\n",
    "        '''\n",
    "\n",
    "        # Compute the current error\n",
    "        error = y_r - y\n",
    "\n",
    "        # Differentiate error and y: \n",
    "        differentiate(error, y)\n",
    "        \n",
    "        # PD Control\n",
    "        if flag is True:\n",
    "            # PD control w/ error_dot\n",
    "            u_unsat = self.kp*error + self.kd*self.error_dot\n",
    "        else:\n",
    "            # PD control w/ y_dot\n",
    "            u_unsat = self.kp*error - self.kd*self.y_dot\n",
    "        \n",
    "        # return saturated control signal\n",
    "        u_sat = self.saturate(u_unsat)\n",
    "        \n",
    "        # update delayed variables\n",
    "        self.error_d1 = error\n",
    "        self.y_d1 = y\n",
    "        return u_sat\n",
    "        \n",
    "        \n",
    "    def differentiate(self, error, y)\n",
    "        # differentiate y\n",
    "        self.y_dot = (2.*self.sigma - self.Ts)/(2.*self.sigma + self.Ts) * self.y_dot + 2./(2.*self.sigma + self.Ts) * (y - self.y_d1)\n",
    "        \n",
    "        # differentiate error\n",
    "        self.error_dot = (2.*self.sigma - self.Ts)/(2.*self.sigma + self.Ts) * self.error_dot + 2./(2.*self.sigma + self.Ts) * (error - self.error_d1)\n",
    "        return\n",
    "            \n",
    "           \n",
    "    def saturate(self,u):\n",
    "        if abs(u) > self.limit:\n",
    "            u = self.limit*np.sign(u)\n",
    "        return u\n",
    "\n",
    "        \n",
    "```        "
   ]
  },
  {
   "cell_type": "markdown",
   "metadata": {
    "colab_type": "text",
    "id": "C6P9Vm0r4cWC"
   },
   "source": [
    "## Integrator Anit-windup\n",
    "One potential problem, that can cause big issues in practice, is the concept of integrator windup.  When the error is large and it persists for a long time, the $u_I$ term can become very large, i.e. \"wind up\".  This can then case large control efforts in the direction to correct the error, which will often dramatically overshoot and destabalize the system.\n",
    "The key in implementation is to add a scheme to guard against wind-up. We summarize two schemes here: \n",
    "\n",
    "### Sum Steady-state Only\n",
    "In this scheme, the idea is to only allow the integrator to sum when the derivative term is low, under some threshold $\\bar{v}$; meaning the system is likely in steady state and not in the transient porition of it's response. It would look something like this: \n",
    "\n",
    "`if np.abs(differentiator) < vbar\n",
    "    integrator = integrator + (Ts/2.)*(error + error_old)\n",
    "`\n",
    "\n",
    "### Saturation Bound Output\n",
    "This scheme seeks to subtract from the integrator term the exact amount needed to keep the output $u$ from saturating.  The implementation would look something like this: \n",
    "\n",
    "Compute the unsaturated outputs\n",
    "$$ u_{\\text{unsat}} = k_P e[n] + k_D u_D[n] + k_I u_I[n].$$\n",
    "Then saturate the output\n",
    "$$ u[n] = \\text{sat}(u_{\\text{unsat}}), $$\n",
    "but before the function completes and the saturated control signal is sent to the actuators, we rewrite $u_I[n]$ as\n",
    "$$ u_I[n] = u_I[n] + \\frac{1}{k_I}(u - u_{\\text{unsat}}), $$\n",
    "which is the updated value of the integrator that ensures that the control signal remains just out of saturation (assuming that $k_I \\neq 0$).  Note that if the control value is not in saturation then $u=u_{\\text{unsat}}$ and the integrator value remains unchanged.  This scheme is demonstarted in the sample PID control code above. \n"
   ]
  },
  {
   "cell_type": "markdown",
   "metadata": {
    "colab_type": "text",
    "id": "aGYqGOQS4cWD"
   },
   "source": [
    "## Gain Selection for PID\n",
    "Gain selection for PID control usually proceeds in the following manner.  \n",
    " * The proportional and derivative gains $k_P$ and $k_D$ are first selected according to the methods discussed in Chapter 8.  \n",
    " * The integral gain $k_I$ is then tuned by starting with zero and then slowly increasing the gain until the steady state error is removed.  The parameters associated with the anti-windup scheme, especially $\\bar{v}$, are also adjusted during this phase.  \n",
    " * The proportional and derivative gains can then be adjusted if necessary by re-tuning $\\omega_n$ and $\\zeta$.  \n",
    " * In the case of successive loop closure, **integrators are only added on the outer loop.**\n",
    "\n",
    "The addition of an integrator has a destabilizing effect on the feedback system.  This effect is most easily understood by using the root locus method described in Appendix E, where it can be seen that for second order systems, a large $k_I$ will always result in closed loop poles in the right half plane.  The root locus can also be used to aid in the selection of the integral gain $k_I$, where the value of $k_I$ is selected so that integrator has minimal impact on the closed loop poles designed using PD control.  A more effective method for selecting integral gains will be discussed in Chapter 12."
   ]
  },
  {
   "cell_type": "markdown",
   "metadata": {
    "colab_type": "text",
    "id": "arZaXK-W4cWE"
   },
   "source": [
    "# Examples: Design Study A. Single Link Robot Arm\n",
    "> (a)  Modify the system dynamics file so that the parameters vary by up to 20\\% each time they are run (uncertainty parameter = 0.2).\n",
    "\n",
    "> (b)  Rearrange the block diagram so that the controller is implemented as an m-function implemented at the sample rate of $T_s=0.01$.  The controller should only assume knowledge of the angle $\\theta$ and the reference angle $\\theta_r$.\n",
    "\n",
    "> (c)  Implement the PID controller designed in Problems A.8 using an m-function called arm\\_ctrl.m.   Use the dirty derivative gain of $\\tau=0.05$.  Tune the integrator to remove the steady state error caused by the uncertain parameters."
   ]
  },
  {
   "cell_type": "markdown",
   "metadata": {
    "colab_type": "text",
    "id": "HnAbD6hp4cWF"
   },
   "source": [
    "## A - (a) Vary the dynamic parameters of the simulation by 20%\n",
    "\n",
    "Here is an extract of the armDynamics.py code: \n",
    "```\n",
    "#The parameters for any physical system are never known exactly.  Feedback\n",
    "#systems need to be designed to be robust to this uncertainty.  In the simulation\n",
    "#we model uncertainty by changing the physical parameters by a uniform random variable\n",
    "#that represents alpha*100 % of the parameter, i.e., alpha = 0.2, means that the parameter\n",
    "#may change by up to 20%.  A different parameter value is chosen every time the simulation\n",
    "#is run.\n",
    "alpha = 0.2  # Uncertainty parameter\n",
    "self.m = P.m * (1+2*alpha*np.random.rand()-alpha)  # Mass of the arm, kg\n",
    "self.ell = P.ell * (1+2*alpha*np.random.rand()-alpha)  # Length of the arm, m\n",
    "self.b = P.b * (1+2*alpha*np.random.rand()-alpha)  # Damping coefficient, Ns\n",
    "self.g = P.g  # the gravity constant is well known and so we don't change it.\n",
    "self.Ts = P.Ts  # sample rate at which the dynamics are propagated - do not vary this. \n",
    "```\n",
    "\n",
    "## A - (b) Implement the controller at sample rate of $T_s$\n",
    "For python, I am already running the simulation at the sample rate of $T_s$. But in Simulink, you double-click the block for the control, and set the sample rate parameter to P.Ts\n",
    "\n",
    "## A - (c) Simulate with PID Control\n",
    "Using the PID controller code outlined above, and the parameter variations from part A, we can demonstrate our improved control (elimination of steady-state error) in simulation: "
   ]
  },
  {
   "cell_type": "code",
   "execution_count": 8,
   "metadata": {
    "colab": {
     "base_uri": "https://localhost:8080/",
     "height": 34
    },
    "colab_type": "code",
    "executionInfo": {
     "elapsed": 2535,
     "status": "ok",
     "timestamp": 1572644982592,
     "user": {
      "displayName": "Robert Leishman",
      "photoUrl": "https://lh3.googleusercontent.com/a-/AAuE7mA03hlSGOOO_5kcSOXnN79THd4H3h3saBfSkFZN0A=s64",
      "userId": "10475069795078818642"
     },
     "user_tz": 240
    },
    "id": "tyz2O5Yd7qcp",
    "outputId": "29522e3f-8b56-453c-d874-fd4482cb397a"
   },
   "outputs": [
    {
     "name": "stdout",
     "output_type": "stream",
     "text": [
      "armAnimation.py  armSim.py  dataPlotter.py  __pycache__  signalGenerator.py\n"
     ]
    }
   ],
   "source": [
    "!cd control_book_public_solutions/_a_arm/python/hw_a/; ls"
   ]
  },
  {
   "cell_type": "code",
   "execution_count": 9,
   "metadata": {
    "colab": {
     "base_uri": "https://localhost:8080/",
     "height": 69
    },
    "colab_type": "code",
    "executionInfo": {
     "elapsed": 691,
     "status": "ok",
     "timestamp": 1572645038299,
     "user": {
      "displayName": "Robert Leishman",
      "photoUrl": "https://lh3.googleusercontent.com/a-/AAuE7mA03hlSGOOO_5kcSOXnN79THd4H3h3saBfSkFZN0A=s64",
      "userId": "10475069795078818642"
     },
     "user_tz": 240
    },
    "id": "gXhCY8bJ7OKM",
    "outputId": "ab4fc489-01b4-40d0-a6cd-63e511abd689"
   },
   "outputs": [
    {
     "name": "stdout",
     "output_type": "stream",
     "text": [
      "kp:  0.45374999999999993\n",
      "ki:  0.1\n",
      "kd:  0.06665499999999998\n"
     ]
    }
   ],
   "source": [
    "#%matplotlib tk \n",
    "sys.path.append('control_book_public_solutions/_a_arm/python/')\n",
    "sys.path.append('control_book_public_solutions/_a_arm/python/hw10/')  # add homework directory\n",
    "import armParam as P\n",
    "from hw_b.armDynamics import armDynamics\n",
    "from hw10.armController import armController\n",
    "from hw_a.signalGenerator import signalGenerator\n",
    "from hw_a.armAnimation import armAnimation\n",
    "from hw_a.dataPlotter import dataPlotter as armPlotData"
   ]
  },
  {
   "cell_type": "code",
   "execution_count": 11,
   "metadata": {
    "colab": {
     "base_uri": "https://localhost:8080/",
     "height": 547
    },
    "colab_type": "code",
    "executionInfo": {
     "elapsed": 3107,
     "status": "ok",
     "timestamp": 1572645058267,
     "user": {
      "displayName": "Robert Leishman",
      "photoUrl": "https://lh3.googleusercontent.com/a-/AAuE7mA03hlSGOOO_5kcSOXnN79THd4H3h3saBfSkFZN0A=s64",
      "userId": "10475069795078818642"
     },
     "user_tz": 240
    },
    "id": "GFggFF8h4cWG",
    "outputId": "c77ae337-2bc3-41f4-848b-99386c9fa04d"
   },
   "outputs": [
    {
     "data": {
      "image/png": "[encoded data removed]",
      "text/plain": [
       "<Figure size 432x288 with 2 Axes>"
      ]
     },
     "metadata": {
      "tags": []
     },
     "output_type": "display_data"
    },
    {
     "data": {
      "image/png": "[encoded data removed]",
      "text/plain": [
       "<Figure size 432x288 with 1 Axes>"
      ]
     },
     "metadata": {
      "tags": []
     },
     "output_type": "display_data"
    }
   ],
   "source": [
    "# instantiate arm, controller, and reference classes\n",
    "arm = armDynamics()\n",
    "ctrl = armController()\n",
    "reference = signalGenerator(amplitude=30*np.pi/180.0, frequency=0.05)\n",
    "\n",
    "# instantiate the simulation plots and animation\n",
    "armDataPlot = armPlotData()\n",
    "animation = armAnimation()\n",
    "\n",
    "# set disturbance input\n",
    "disturbance = 0.01\n",
    "\n",
    "t = P.t_start  # time starts at t_start\n",
    "while t < P.t_end:  # main simulation loop\n",
    "    # Get referenced inputs from signal generators\n",
    "    ref_input = reference.square(t)\n",
    "    # Propagate dynamics in between plot samples\n",
    "    t_next_plot = t + P.t_plot\n",
    "    while t < t_next_plot: # updates control and dynamics at faster simulation rate\n",
    "        u = ctrl.update(ref_input, arm.state)  # Calculate the control value\n",
    "        sys_input = u + disturbance\n",
    "        arm.update(sys_input)  # Propagate the dynamics\n",
    "        t = t + P.Ts  # advance time by Ts\n",
    "    # update animation and data plots\n",
    "    animation.update(arm.state)\n",
    "    armDataPlot.update(t, ref_input, arm.state, u)\n",
    "    plt.pause(0.0001)  # the pause causes the figure to be displayed during the simulation"
   ]
  },
  {
   "cell_type": "code",
   "execution_count": 0,
   "metadata": {
    "colab": {},
    "colab_type": "code",
    "id": "kFU5wyAV4cWL"
   },
   "outputs": [],
   "source": [
    "def postProcessPlot(dataPlot_arm):\n",
    "  # Create a new figure, after the simulator has run, and display all the data: \n",
    "  fig, axes = plt.subplots(nrows=2, ncols=1)\n",
    "  fig.tight_layout()\n",
    "  plt.subplot(211)  \n",
    "  plt.plot(dataPlot_arm.time_history, np.transpose([dataPlot_arm.theta_history, dataPlot_arm.theta_ref_history]))\n",
    "  plt.title('Arm Data' )\n",
    "  plt.ylabel('$\\theta$ (deg)')  \n",
    "  plt.xlabel('time (s)')\n",
    "  plt.subplot(212)\n",
    "  plt.plot(dataPlot_arm.time_history, dataPlot_arm.torque_history)\n",
    "  plt.ylabel('Torque (N-m)')\n",
    "  plt.xlabel('time (s)')"
   ]
  },
  {
   "cell_type": "code",
   "execution_count": 13,
   "metadata": {
    "colab": {
     "base_uri": "https://localhost:8080/",
     "height": 323
    },
    "colab_type": "code",
    "executionInfo": {
     "elapsed": 1534,
     "status": "ok",
     "timestamp": 1572645064619,
     "user": {
      "displayName": "Robert Leishman",
      "photoUrl": "https://lh3.googleusercontent.com/a-/AAuE7mA03hlSGOOO_5kcSOXnN79THd4H3h3saBfSkFZN0A=s64",
      "userId": "10475069795078818642"
     },
     "user_tz": 240
    },
    "id": "PA3TJZ0I4cWR",
    "outputId": "5353b36d-433f-4f22-9f51-bba5cdf7242f"
   },
   "outputs": [
    {
     "data": {
      "image/png": "[encoded data removed]",
      "text/plain": [
       "<Figure size 432x288 with 2 Axes>"
      ]
     },
     "metadata": {
      "tags": []
     },
     "output_type": "display_data"
    }
   ],
   "source": [
    "postProcessPlot(armDataPlot)"
   ]
  },
  {
   "cell_type": "markdown",
   "metadata": {
    "colab_type": "text",
    "id": "ViIaB2p44cWU"
   },
   "source": [
    "# Examples - Design Study B: Inverted Pendulum\n",
    "> (a)  Modify the system dynamics file so that the parameters $m_1$, $m_2$, $\\ell$ and $b$ vary by up to 20\\% of their nominal value each time they are run (uncertainty parameter = 0.2).\n",
    "\n",
    "> (b)  Rearrange the block diagram so that the controller is implemented as an m-function implemented at the sample rate of $T_s=0.01$.  The controller should only assume knowledge of the position $z$ and the angle $\\theta$, as well as the reference position $z_r$.\n",
    "\n",
    "> (e)  Implement the nested PID loops designed in Problems B.8 using an m-function called pendulum\\_ctrl.m.   Use the dirty derivative gain of $\\tau=0.05$. Tune the integrator to remove the steady state error caused by the uncertain parameters."
   ]
  },
  {
   "cell_type": "markdown",
   "metadata": {
    "colab_type": "text",
    "id": "h9PXYvRT4cWV"
   },
   "source": [
    "## B - (a) Vary Dynamic Parameters\n",
    "The section of code in python to vary the dynamic parameters: \n",
    "```\n",
    "# The parameters for any physical system are never known exactly.  Feedback\n",
    "# systems need to be designed to be robust to this uncertainty.  In the simulation\n",
    "# we model uncertainty by changing the physical parameters by a uniform random variable\n",
    "# that represents alpha*100 % of the parameter, i.e., alpha = 0.2, means that the parameter\n",
    "# may change by up to 20%.  A different parameter value is chosen every time the simulation\n",
    "# is run.\n",
    "alpha = 0.2  # Uncertainty parameter\n",
    "self.m1 = P.m1 * (1+2*alpha*np.random.rand()-alpha)  # Mass of the pendulum, kg\n",
    "self.m2 = P.m2 * (1+2*alpha*np.random.rand()-alpha)  # Mass of the cart, kg\n",
    "self.ell = P.ell * (1+2*alpha*np.random.rand()-alpha)  # Length of the rod, m\n",
    "self.b = P.b * (1+2*alpha*np.random.rand()-alpha)  # Damping coefficient, Ns\n",
    "self.g = P.g  # the gravity constant is well known and so we don't change it.\n",
    "```\n",
    "\n",
    "## B - (b) Sample Control at $T_s$\n",
    "See comment for A - (b) above\n",
    "\n",
    "## B - (c) Simulate PID Control"
   ]
  },
  {
   "cell_type": "code",
   "execution_count": 0,
   "metadata": {
    "colab": {},
    "colab_type": "code",
    "id": "vVm2hQB44cWW"
   },
   "outputs": [],
   "source": [
    "# Design Problem B : Pendulum\n",
    "sys.path.remove('control_book_public_solutions/_a_arm/python/')\n",
    "sys.path.remove('control_book_public_solutions/_a_arm/python/hw10/')"
   ]
  },
  {
   "cell_type": "code",
   "execution_count": 2,
   "metadata": {
    "colab": {
     "base_uri": "https://localhost:8080/",
     "height": 661
    },
    "colab_type": "code",
    "executionInfo": {
     "elapsed": 7448,
     "status": "ok",
     "timestamp": 1572645355444,
     "user": {
      "displayName": "Robert Leishman",
      "photoUrl": "https://lh3.googleusercontent.com/a-/AAuE7mA03hlSGOOO_5kcSOXnN79THd4H3h3saBfSkFZN0A=s64",
      "userId": "10475069795078818642"
     },
     "user_tz": 240
    },
    "id": "uRh11SXB4cWZ",
    "outputId": "cdde28a9-0155-42bb-8c05-8ccd22d77780"
   },
   "outputs": [
    {
     "name": "stdout",
     "output_type": "stream",
     "text": [
      "DC_gain 1.8754253767622748\n",
      "kp_th:  -26.24319727891157\n",
      "kd_th:  -3.1478333333333333\n",
      "kp_z:  -0.06189092517559949\n",
      "ki_z:  0.0001\n",
      "kd_z:  -0.1506408552390715\n"
     ]
    },
    {
     "data": {
      "image/png": "[encoded data removed]",
      "text/plain": [
       "<Figure size 432x288 with 3 Axes>"
      ]
     },
     "metadata": {
      "tags": []
     },
     "output_type": "display_data"
    },
    {
     "data": {
      "image/png": "[encoded data removed]",
      "text/plain": [
       "<Figure size 432x288 with 1 Axes>"
      ]
     },
     "metadata": {
      "tags": []
     },
     "output_type": "display_data"
    }
   ],
   "source": [
    "#%matplotlib tk \n",
    "sys.path.append('control_book_public_solutions/_B_pendulum/python')\n",
    "sys.path.append('control_book_public_solutions/_B_pendulum/python/hw10/')  # add homework directory\n",
    "import pendulumParam as P\n",
    "from hw_b.pendulumDynamics import pendulumDynamics\n",
    "from hw10.pendulumController import pendulumController\n",
    "from hw_a.signalGenerator import signalGenerator\n",
    "from hw_a.pendulumAnimation import pendulumAnimation\n",
    "from hw_a.dataPlotter import dataPlotter as pendulumPlotData\n",
    "\n",
    "pendulum = pendulumDynamics()\n",
    "ctrl = pendulumController() # put in the gains we computed above for the inner loop. \n",
    "reference = signalGenerator(amplitude=0.5, frequency=0.02)\n",
    "\n",
    "# instantiate the simulation plots and animation\n",
    "pendDataPlot = pendulumPlotData()\n",
    "animation = pendulumAnimation()\n",
    "\n",
    "t = P.t_start  # time starts at t_start\n",
    "while t < P.t_end:  # main simulation loop\n",
    "    # Get referenced inputs from signal generators\n",
    "    ref_input = reference.square(t)\n",
    "    # Propagate dynamics in between plot samples\n",
    "    t_next_plot = t + P.t_plot\n",
    "    while t < t_next_plot: # updates control and dynamics at faster simulation rate\n",
    "        u = ctrl.update(ref_input, pendulum.state)  # Calculate the control value        \n",
    "        pendulum.update(u)  # Propagate the dynamics\n",
    "        t = t + P.Ts  # advance time by Ts\n",
    "    # update animation and data plots\n",
    "    animation.update(pendulum.state)\n",
    "    pendDataPlot.update(t, ref_input, pendulum.state, u)\n",
    "    #dataPlot.update(t, [0.0,0.0], pendulum.state, u)\n",
    "    plt.pause(0.0001)  # the pause causes the figure to be displayed during the simulation"
   ]
  },
  {
   "cell_type": "code",
   "execution_count": 0,
   "metadata": {
    "colab": {},
    "colab_type": "code",
    "id": "kHZehzHX4cWd"
   },
   "outputs": [],
   "source": [
    "def postProcessPlotPendulum(dataPlot_pen):\n",
    "  # Create a new figure, after the simulator has run, and display all the data: \n",
    "  fig, axes = plt.subplots(nrows=3, ncols=1)\n",
    "  fig.tight_layout()\n",
    "  plt.subplot(311)  \n",
    "  plt.plot(dataPlot_pen.time_history, np.transpose([dataPlot_pen.z_history, dataPlot_pen.zref_history]))\n",
    "  plt.title('Pendulum Data' )\n",
    "  plt.ylabel('$z$ (deg)')  \n",
    "  plt.xlabel('time (s)')\n",
    "  plt.subplot(312)  \n",
    "  plt.plot(dataPlot_pen.time_history, np.transpose(dataPlot_pen.theta_history))\n",
    "  plt.ylabel('$\\theta$ (deg)')  \n",
    "  plt.xlabel('time (s)')\n",
    "  plt.subplot(313)\n",
    "  plt.plot(dataPlot_pen.time_history, dataPlot_pen.Force_history)\n",
    "  plt.ylabel('Force (N)')\n",
    "  plt.xlabel('time (s)')"
   ]
  },
  {
   "cell_type": "code",
   "execution_count": 4,
   "metadata": {
    "colab": {
     "base_uri": "https://localhost:8080/",
     "height": 323
    },
    "colab_type": "code",
    "executionInfo": {
     "elapsed": 1475,
     "status": "ok",
     "timestamp": 1572645360014,
     "user": {
      "displayName": "Robert Leishman",
      "photoUrl": "https://lh3.googleusercontent.com/a-/AAuE7mA03hlSGOOO_5kcSOXnN79THd4H3h3saBfSkFZN0A=s64",
      "userId": "10475069795078818642"
     },
     "user_tz": 240
    },
    "id": "lBeX_9Nv4cWg",
    "outputId": "15c44315-c43b-4eb4-ccd3-c6644539aa48"
   },
   "outputs": [
    {
     "data": {
      "image/png": "[encoded data removed]",
      "text/plain": [
       "<Figure size 432x288 with 3 Axes>"
      ]
     },
     "metadata": {
      "tags": []
     },
     "output_type": "display_data"
    }
   ],
   "source": [
    "postProcessPlotPendulum(pendDataPlot)"
   ]
  },
  {
   "cell_type": "markdown",
   "metadata": {
    "colab_type": "text",
    "id": "5NAu1HPl4cWj"
   },
   "source": [
    "# Examples - Design Study C: Satellite Control\n",
    "> (a)  Modify the system dynamics file so that the parameters $J_s$, $J_p$, $k$ and $b$ vary by up to 20\\% of their nominal value each time they are run (uncertainty parameter = 0.2).\n",
    "\n",
    ">(b)  Rearrange the block diagram so that the controller is implemented as an m-function implemented at the sample rate of $T_s=0.01$.  Assume that the controller only has knowledge of the angles $\\phi$ and $\\theta$ as well as the reference angle $\\phi_r$.\n",
    "\n",
    ">(c)  Implement the nested PID loops designed in Problems C.8 using an m-function called satellite\\_ctrl.m.   Use the dirty derivative gain of $\\tau=0.05$. Tune the integrator to remove the steady state error caused by the uncertain parameters."
   ]
  },
  {
   "cell_type": "markdown",
   "metadata": {
    "colab_type": "text",
    "id": "utJO92cG4cWl"
   },
   "source": [
    "## C - (a) Vary Dynamic Parameters\n",
    "Here is code demonstrating varying the dynamic parameters: \n",
    "```\n",
    "# The parameters for any physical system are never known exactly.  Feedback\n",
    "# systems need to be designed to be robust to this uncertainty.  In the simulation\n",
    "# we model uncertainty by changing the physical parameters by a uniform random variable\n",
    "# that represents alpha*100 % of the parameter, i.e., alpha = 0.2, means that the parameter\n",
    "# may change by up to 20%.  A different parameter value is chosen every time the simulation\n",
    "# is run.\n",
    "alpha = 0.2  # Uncertainty parameter\n",
    "self.Js = P.Js * (1+2*alpha*np.random.rand()-alpha)  # inertia of base\n",
    "self.Jp = P.Jp * (1+2*alpha*np.random.rand()-alpha)  # inertia of panel\n",
    "self.k = P.k * (1+2*alpha*np.random.rand()-alpha)    # spring coefficient\n",
    "self.b = P.b * (1+2*alpha*np.random.rand()-alpha)    # Damping coefficient, Ns\n",
    "\n",
    "```\n",
    "\n",
    "## C - (b) Sample Control at $T_s$\n",
    "See part A - (b) above\n",
    "\n",
    "## C - (c) Simulate PID\n",
    "Here is the simulation of our PID controller, see the ability of the control to take out state state error. "
   ]
  },
  {
   "cell_type": "code",
   "execution_count": 0,
   "metadata": {
    "colab": {},
    "colab_type": "code",
    "id": "k5rL2WZO4cWl"
   },
   "outputs": [],
   "source": [
    "# Design Problem B : Pendulum\n",
    "sys.path.remove('control_book_public_solutions/_B_pendulum/python')\n",
    "sys.path.remove('control_book_public_solutions/_B_pendulum/python/hw10/')"
   ]
  },
  {
   "cell_type": "code",
   "execution_count": 3,
   "metadata": {
    "colab": {
     "base_uri": "https://localhost:8080/",
     "height": 634
    },
    "colab_type": "code",
    "executionInfo": {
     "elapsed": 6781,
     "status": "ok",
     "timestamp": 1572645584370,
     "user": {
      "displayName": "Robert Leishman",
      "photoUrl": "https://lh3.googleusercontent.com/a-/AAuE7mA03hlSGOOO_5kcSOXnN79THd4H3h3saBfSkFZN0A=s64",
      "userId": "10475069795078818642"
     },
     "user_tz": 240
    },
    "id": "HJEccBVA4cWo",
    "outputId": "4810bc0b-5197-4396-cff3-5e6fc6271a35"
   },
   "outputs": [
    {
     "name": "stdout",
     "output_type": "stream",
     "text": [
      "k_DC_phi 0.3781272785378374\n",
      "kp_th:  49.23775510204083\n",
      "kd_th:  22.169999999999998\n",
      "kp_phi:  0.6098984704403007\n",
      "kd_phi:  2.8573062567076946\n"
     ]
    },
    {
     "data": {
      "image/png": "[encoded data removed]",
      "text/plain": [
       "<Figure size 432x288 with 3 Axes>"
      ]
     },
     "metadata": {
      "tags": []
     },
     "output_type": "display_data"
    },
    {
     "data": {
      "image/png": "[encoded data removed]",
      "text/plain": [
       "<Figure size 432x288 with 1 Axes>"
      ]
     },
     "metadata": {
      "tags": []
     },
     "output_type": "display_data"
    }
   ],
   "source": [
    "#%matplotlib tk \n",
    "sys.path.append('control_book_public_solutions/_C_satellite/python/')\n",
    "sys.path.append('control_book_public_solutions/_C_satellite/python/hw10')\n",
    "import satelliteParam as P\n",
    "from hw_b.satelliteDynamics import satelliteDynamics\n",
    "from hw10.satelliteController import satelliteController\n",
    "from hw_a.signalGenerator import signalGenerator\n",
    "from hw_a.satelliteAnimation import satelliteAnimation\n",
    "from hw_a.dataPlotter import dataPlotter as satellitePlotData\n",
    "P.k = 0.1\n",
    "\n",
    "# instantiate satellite, controller, and reference classes\n",
    "satellite = satelliteDynamics()\n",
    "ctrl = satelliteController()\n",
    "reference = signalGenerator(amplitude=15.0*np.pi/180.0, frequency=0.02)\n",
    "\n",
    "# set disturbance input\n",
    "disturbance = 0.50\n",
    "\n",
    "# instantiate the simulation plots and animation\n",
    "satDataPlot = satellitePlotData()\n",
    "animation = satelliteAnimation()\n",
    "\n",
    "t = P.t_start  # time starts at t_start\n",
    "while t < P.t_end:  # main simulation loop\n",
    "    # Get referenced inputs from signal generators\n",
    "    ref_input = reference.square(t)\n",
    "    # Propagate dynamics in between plot samples\n",
    "    t_next_plot = t + P.t_plot\n",
    "    while t < t_next_plot:  # updates control and dynamics at faster simulation rate\n",
    "        tau = ctrl.update(ref_input, satellite.state)  # Calculate the control value\n",
    "        sys_input = tau+disturbance  # input to plant is control input + disturbance (formatted as a list)\n",
    "        satellite.update(sys_input)  # Propagate the dynamics with disturbance input\n",
    "        t = t + P.Ts  # advance time by Ts\n",
    "    # update animation and data plots\n",
    "    animation.update(satellite.state)\n",
    "    satDataPlot.update(t, ref_input, satellite.state, tau)\n",
    "    plt.pause(0.0001)  # the pause causes the figure to be displayed during the simulation"
   ]
  },
  {
   "cell_type": "code",
   "execution_count": 0,
   "metadata": {
    "colab": {},
    "colab_type": "code",
    "id": "l3zEsZF04cWs"
   },
   "outputs": [],
   "source": [
    "def postProcessPlotSatellite(dataPlot_sat):\n",
    "  # Create a new figure, after the simulator has run, and display all the data: \n",
    "  fig, axes = plt.subplots(nrows=3, ncols=1)\n",
    "  fig.tight_layout()\n",
    "  plt.subplot(311)  \n",
    "  plt.plot(dataPlot_sat.time_history, np.transpose([dataPlot_sat.phi_history, dataPlot_sat.phi_ref_history]))\n",
    "  plt.title('Satellite Data' )\n",
    "  plt.ylabel('$\\phi$ (deg)')  \n",
    "  plt.xlabel('time (s)')\n",
    "  plt.subplot(312)  \n",
    "  plt.plot(dataPlot_sat.time_history, np.transpose(dataPlot_sat.theta_history))\n",
    "  plt.ylabel('$\\theta$ (deg)')  \n",
    "  plt.xlabel('time (s)')\n",
    "  plt.subplot(313)\n",
    "  plt.plot(dataPlot_sat.time_history, dataPlot_sat.torque_history)\n",
    "  plt.ylabel('Torque (Nm)')\n",
    "  plt.xlabel('time (s)')"
   ]
  },
  {
   "cell_type": "code",
   "execution_count": 7,
   "metadata": {
    "colab": {
     "base_uri": "https://localhost:8080/",
     "height": 323
    },
    "colab_type": "code",
    "executionInfo": {
     "elapsed": 1694,
     "status": "ok",
     "timestamp": 1572645700918,
     "user": {
      "displayName": "Robert Leishman",
      "photoUrl": "https://lh3.googleusercontent.com/a-/AAuE7mA03hlSGOOO_5kcSOXnN79THd4H3h3saBfSkFZN0A=s64",
      "userId": "10475069795078818642"
     },
     "user_tz": 240
    },
    "id": "UhCaJavs4cWw",
    "outputId": "b091eaef-50d1-4396-8c17-82686acad1b4"
   },
   "outputs": [
    {
     "data": {
      "image/png": "[encoded data removed]",
      "text/plain": [
       "<Figure size 432x288 with 3 Axes>"
      ]
     },
     "metadata": {
      "tags": []
     },
     "output_type": "display_data"
    }
   ],
   "source": [
    "postProcessPlotSatellite(satDataPlot)"
   ]
  }
 ],
 "metadata": {
  "colab": {
   "collapsed_sections": [],
   "name": "10_PID_Digital_colab.ipynb",
   "provenance": []
  },
  "kernelspec": {
   "display_name": "Python 3",
   "language": "python",
   "name": "python3"
  },
  "language_info": {
   "codemirror_mode": {
    "name": "ipython",
    "version": 3
   },
   "file_extension": ".py",
   "mimetype": "text/x-python",
   "name": "python",
   "nbconvert_exporter": "python",
   "pygments_lexer": "ipython3",
   "version": "3.6.8"
  }
 },
 "nbformat": 4,
 "nbformat_minor": 1
}
